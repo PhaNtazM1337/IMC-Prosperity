{
 "cells": [
  {
   "cell_type": "code",
   "execution_count": 12,
   "id": "07f112ac-0b2d-4cd2-8062-e5b5a6e78a0e",
   "metadata": {},
   "outputs": [],
   "source": [
    "import numpy as np\n",
    "import pandas as pd\n",
    "import matplotlib.pyplot as plt"
   ]
  },
  {
   "cell_type": "code",
   "execution_count": 2,
   "id": "5f33ec6b-ddc3-40de-9ded-b7f43021ccd0",
   "metadata": {},
   "outputs": [
    {
     "data": {
      "text/html": [
       "<div>\n",
       "<style scoped>\n",
       "    .dataframe tbody tr th:only-of-type {\n",
       "        vertical-align: middle;\n",
       "    }\n",
       "\n",
       "    .dataframe tbody tr th {\n",
       "        vertical-align: top;\n",
       "    }\n",
       "\n",
       "    .dataframe thead th {\n",
       "        text-align: right;\n",
       "    }\n",
       "</style>\n",
       "<table border=\"1\" class=\"dataframe\">\n",
       "  <thead>\n",
       "    <tr style=\"text-align: right;\">\n",
       "      <th></th>\n",
       "      <th>day</th>\n",
       "      <th>timestamp</th>\n",
       "      <th>product</th>\n",
       "      <th>bid_price_1</th>\n",
       "      <th>bid_volume_1</th>\n",
       "      <th>bid_price_2</th>\n",
       "      <th>bid_volume_2</th>\n",
       "      <th>bid_price_3</th>\n",
       "      <th>bid_volume_3</th>\n",
       "      <th>ask_price_1</th>\n",
       "      <th>ask_volume_1</th>\n",
       "      <th>ask_price_2</th>\n",
       "      <th>ask_volume_2</th>\n",
       "      <th>ask_price_3</th>\n",
       "      <th>ask_volume_3</th>\n",
       "      <th>mid_price</th>\n",
       "      <th>profit_and_loss</th>\n",
       "    </tr>\n",
       "  </thead>\n",
       "  <tbody>\n",
       "    <tr>\n",
       "      <th>0</th>\n",
       "      <td>4</td>\n",
       "      <td>0</td>\n",
       "      <td>STARFRUIT</td>\n",
       "      <td>4906</td>\n",
       "      <td>2</td>\n",
       "      <td>4905.0</td>\n",
       "      <td>20.0</td>\n",
       "      <td>NaN</td>\n",
       "      <td>NaN</td>\n",
       "      <td>4912</td>\n",
       "      <td>22</td>\n",
       "      <td>NaN</td>\n",
       "      <td>NaN</td>\n",
       "      <td>NaN</td>\n",
       "      <td>NaN</td>\n",
       "      <td>4909.0</td>\n",
       "      <td>0.0</td>\n",
       "    </tr>\n",
       "    <tr>\n",
       "      <th>1</th>\n",
       "      <td>4</td>\n",
       "      <td>0</td>\n",
       "      <td>STRAWBERRIES</td>\n",
       "      <td>3957</td>\n",
       "      <td>199</td>\n",
       "      <td>NaN</td>\n",
       "      <td>NaN</td>\n",
       "      <td>NaN</td>\n",
       "      <td>NaN</td>\n",
       "      <td>3959</td>\n",
       "      <td>199</td>\n",
       "      <td>NaN</td>\n",
       "      <td>NaN</td>\n",
       "      <td>NaN</td>\n",
       "      <td>NaN</td>\n",
       "      <td>3958.0</td>\n",
       "      <td>0.0</td>\n",
       "    </tr>\n",
       "    <tr>\n",
       "      <th>2</th>\n",
       "      <td>4</td>\n",
       "      <td>0</td>\n",
       "      <td>COCONUT</td>\n",
       "      <td>9883</td>\n",
       "      <td>133</td>\n",
       "      <td>9882.0</td>\n",
       "      <td>47.0</td>\n",
       "      <td>NaN</td>\n",
       "      <td>NaN</td>\n",
       "      <td>9884</td>\n",
       "      <td>133</td>\n",
       "      <td>9885.0</td>\n",
       "      <td>47.0</td>\n",
       "      <td>NaN</td>\n",
       "      <td>NaN</td>\n",
       "      <td>9883.5</td>\n",
       "      <td>0.0</td>\n",
       "    </tr>\n",
       "    <tr>\n",
       "      <th>3</th>\n",
       "      <td>4</td>\n",
       "      <td>0</td>\n",
       "      <td>COCONUT_COUPON</td>\n",
       "      <td>574</td>\n",
       "      <td>45</td>\n",
       "      <td>NaN</td>\n",
       "      <td>NaN</td>\n",
       "      <td>NaN</td>\n",
       "      <td>NaN</td>\n",
       "      <td>575</td>\n",
       "      <td>45</td>\n",
       "      <td>NaN</td>\n",
       "      <td>NaN</td>\n",
       "      <td>NaN</td>\n",
       "      <td>NaN</td>\n",
       "      <td>574.5</td>\n",
       "      <td>0.0</td>\n",
       "    </tr>\n",
       "    <tr>\n",
       "      <th>4</th>\n",
       "      <td>4</td>\n",
       "      <td>0</td>\n",
       "      <td>ROSES</td>\n",
       "      <td>13712</td>\n",
       "      <td>63</td>\n",
       "      <td>NaN</td>\n",
       "      <td>NaN</td>\n",
       "      <td>NaN</td>\n",
       "      <td>NaN</td>\n",
       "      <td>13714</td>\n",
       "      <td>63</td>\n",
       "      <td>NaN</td>\n",
       "      <td>NaN</td>\n",
       "      <td>NaN</td>\n",
       "      <td>NaN</td>\n",
       "      <td>13713.0</td>\n",
       "      <td>0.0</td>\n",
       "    </tr>\n",
       "  </tbody>\n",
       "</table>\n",
       "</div>"
      ],
      "text/plain": [
       "   day  timestamp         product  bid_price_1  bid_volume_1  bid_price_2  \\\n",
       "0    4          0       STARFRUIT         4906             2       4905.0   \n",
       "1    4          0    STRAWBERRIES         3957           199          NaN   \n",
       "2    4          0         COCONUT         9883           133       9882.0   \n",
       "3    4          0  COCONUT_COUPON          574            45          NaN   \n",
       "4    4          0           ROSES        13712            63          NaN   \n",
       "\n",
       "   bid_volume_2  bid_price_3  bid_volume_3  ask_price_1  ask_volume_1  \\\n",
       "0          20.0          NaN           NaN         4912            22   \n",
       "1           NaN          NaN           NaN         3959           199   \n",
       "2          47.0          NaN           NaN         9884           133   \n",
       "3           NaN          NaN           NaN          575            45   \n",
       "4           NaN          NaN           NaN        13714            63   \n",
       "\n",
       "   ask_price_2  ask_volume_2  ask_price_3  ask_volume_3  mid_price  \\\n",
       "0          NaN           NaN          NaN           NaN     4909.0   \n",
       "1          NaN           NaN          NaN           NaN     3958.0   \n",
       "2       9885.0          47.0          NaN           NaN     9883.5   \n",
       "3          NaN           NaN          NaN           NaN      574.5   \n",
       "4          NaN           NaN          NaN           NaN    13713.0   \n",
       "\n",
       "   profit_and_loss  \n",
       "0              0.0  \n",
       "1              0.0  \n",
       "2              0.0  \n",
       "3              0.0  \n",
       "4              0.0  "
      ]
     },
     "execution_count": 2,
     "metadata": {},
     "output_type": "execute_result"
    }
   ],
   "source": [
    "data = pd.read_csv(\"prices_round_5_day_1.csv\", sep = \";\")\n",
    "data.head()"
   ]
  },
  {
   "cell_type": "code",
   "execution_count": 11,
   "id": "ad9ac9fb-f19e-405d-ad0f-6ccffe459384",
   "metadata": {},
   "outputs": [
    {
     "data": {
      "text/plain": [
       "(350.855, 61.70117887852711)"
      ]
     },
     "execution_count": 11,
     "metadata": {},
     "output_type": "execute_result"
    }
   ],
   "source": [
    "roses = data[data[\"product\"]== \"ROSES\"][\"mid_price\"].to_numpy()\n",
    "strawberries = data[data[\"product\"]== \"STRAWBERRIES\"][\"mid_price\"].to_numpy()\n",
    "chocolate = data[data[\"product\"]== \"CHOCOLATE\"][\"mid_price\"].to_numpy()\n",
    "basket = data[data[\"product\"]== \"GIFT_BASKET\"][\"mid_price\"].to_numpy()\n",
    "diff = basket - 4*chocolate -6*strawberries - roses\n",
    "(diff.mean(), diff.std())"
   ]
  },
  {
   "cell_type": "code",
   "execution_count": 15,
   "id": "ce721dad-bace-4cb7-98d9-a79795069a42",
   "metadata": {},
   "outputs": [
    {
     "data": {
      "text/plain": [
       "[<matplotlib.lines.Line2D at 0x28d5914f710>]"
      ]
     },
     "execution_count": 15,
     "metadata": {},
     "output_type": "execute_result"
    },
    {
     "data": {
      "image/png": "[encoded data removed]",
      "text/plain": [
       "<Figure size 640x480 with 1 Axes>"
      ]
     },
     "metadata": {},
     "output_type": "display_data"
    }
   ],
   "source": [
    "plt.plot(diff)"
   ]
  },
  {
   "cell_type": "code",
   "execution_count": null,
   "id": "ecbf3ed2-5b84-4764-b8ac-eb4bff2757c6",
   "metadata": {},
   "outputs": [],
   "source": []
  }
 ],
 "metadata": {
  "kernelspec": {
   "display_name": "Python 3 (ipykernel)",
   "language": "python",
   "name": "python3"
  },
  "language_info": {
   "codemirror_mode": {
    "name": "ipython",
    "version": 3
   },
   "file_extension": ".py",
   "mimetype": "text/x-python",
   "name": "python",
   "nbconvert_exporter": "python",
   "pygments_lexer": "ipython3",
   "version": "3.11.4"
  }
 },
 "nbformat": 4,
 "nbformat_minor": 5
}
